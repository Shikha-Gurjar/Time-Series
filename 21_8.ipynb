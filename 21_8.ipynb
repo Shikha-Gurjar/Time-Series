{
 "cells": [
  {
   "cell_type": "markdown",
   "metadata": {},
   "source": [
    "# TIME SERIES"
   ]
  },
  {
   "cell_type": "markdown",
   "metadata": {},
   "source": [
    "## Objective"
   ]
  },
  {
   "cell_type": "markdown",
   "metadata": {},
   "source": [
    "Here we have two data frame \n",
    "1. Train data\n",
    "2. Test data\n",
    "\n",
    "Where we have to predict **feature_2** of test data, with help of train data. So, to predict Feature_2 we will try Univariate Algorithms. Then Multivariate Algorithm."
   ]
  },
  {
   "cell_type": "markdown",
   "metadata": {},
   "source": [
    "- We will use Different Algorithms\n",
    "  1. ARIMA\n",
    "  2. SARIMA\n",
    "  3. VAR\n",
    "\n",
    "- Then, some Regression\n",
    "\n",
    "  1. LINEAR REGRESSION\n",
    "  2. RIDGE REGRESSION\n",
    "  3. LASSO REGRESSION"
   ]
  },
  {
   "cell_type": "markdown",
   "metadata": {},
   "source": [
    "### Importing Libraries"
   ]
  },
  {
   "cell_type": "code",
   "execution_count": null,
   "metadata": {},
   "outputs": [],
   "source": []
  },
  {
   "cell_type": "code",
   "execution_count": 1,
   "metadata": {},
   "outputs": [],
   "source": [
    "import numpy as np\n",
    "import pandas as pd\n",
    "\n",
    "# for visualisation\n",
    "import matplotlib.pylab as plt\n",
    "%matplotlib inline\n",
    "\n",
    "import seaborn as sns\n",
    "\n",
    "from datetime import datetime\n",
    "\n",
    "pd.set_option('display.max_columns', 500)\n",
    "pd.set_option('display.max_rows', None)\n",
    "\n",
    "# To Disable Warnings\n",
    "import warnings\n",
    "warnings.filterwarnings(action = \"ignore\")"
   ]
  },
  {
   "cell_type": "code",
   "execution_count": null,
   "metadata": {},
   "outputs": [],
   "source": []
  },
  {
   "cell_type": "markdown",
   "metadata": {},
   "source": [
    "###  Loading Data"
   ]
  },
  {
   "cell_type": "code",
   "execution_count": 2,
   "metadata": {},
   "outputs": [],
   "source": [
    "train = pd.read_csv(\"train.csv\")\n",
    "test = pd.read_csv(\"test.csv\")"
   ]
  },
  {
   "cell_type": "code",
   "execution_count": null,
   "metadata": {},
   "outputs": [],
   "source": []
  },
  {
   "cell_type": "code",
   "execution_count": 3,
   "metadata": {},
   "outputs": [
    {
     "name": "stdout",
     "output_type": "stream",
     "text": [
      "shape of train data (564, 4)\n"
     ]
    },
    {
     "data": {
      "text/html": [
       "<div>\n",
       "<style scoped>\n",
       "    .dataframe tbody tr th:only-of-type {\n",
       "        vertical-align: middle;\n",
       "    }\n",
       "\n",
       "    .dataframe tbody tr th {\n",
       "        vertical-align: top;\n",
       "    }\n",
       "\n",
       "    .dataframe thead th {\n",
       "        text-align: right;\n",
       "    }\n",
       "</style>\n",
       "<table border=\"1\" class=\"dataframe\">\n",
       "  <thead>\n",
       "    <tr style=\"text-align: right;\">\n",
       "      <th></th>\n",
       "      <th>id</th>\n",
       "      <th>time</th>\n",
       "      <th>feature_1</th>\n",
       "      <th>feature_2</th>\n",
       "    </tr>\n",
       "  </thead>\n",
       "  <tbody>\n",
       "    <tr>\n",
       "      <th>0</th>\n",
       "      <td>0</td>\n",
       "      <td>2019-03-19 00:00:00</td>\n",
       "      <td>735.740043</td>\n",
       "      <td>54479.540513</td>\n",
       "    </tr>\n",
       "    <tr>\n",
       "      <th>1</th>\n",
       "      <td>1</td>\n",
       "      <td>2019-03-19 00:00:10</td>\n",
       "      <td>734.102947</td>\n",
       "      <td>47888.033714</td>\n",
       "    </tr>\n",
       "    <tr>\n",
       "      <th>2</th>\n",
       "      <td>2</td>\n",
       "      <td>2019-03-19 00:00:20</td>\n",
       "      <td>730.060336</td>\n",
       "      <td>47700.882325</td>\n",
       "    </tr>\n",
       "    <tr>\n",
       "      <th>3</th>\n",
       "      <td>3</td>\n",
       "      <td>2019-03-19 00:00:30</td>\n",
       "      <td>725.609742</td>\n",
       "      <td>47790.094648</td>\n",
       "    </tr>\n",
       "    <tr>\n",
       "      <th>4</th>\n",
       "      <td>4</td>\n",
       "      <td>2019-03-19 00:00:40</td>\n",
       "      <td>724.328480</td>\n",
       "      <td>47808.402381</td>\n",
       "    </tr>\n",
       "  </tbody>\n",
       "</table>\n",
       "</div>"
      ],
      "text/plain": [
       "   id                 time   feature_1     feature_2\n",
       "0   0  2019-03-19 00:00:00  735.740043  54479.540513\n",
       "1   1  2019-03-19 00:00:10  734.102947  47888.033714\n",
       "2   2  2019-03-19 00:00:20  730.060336  47700.882325\n",
       "3   3  2019-03-19 00:00:30  725.609742  47790.094648\n",
       "4   4  2019-03-19 00:00:40  724.328480  47808.402381"
      ]
     },
     "execution_count": 3,
     "metadata": {},
     "output_type": "execute_result"
    }
   ],
   "source": [
    "print(\"shape of train data\", train.shape)\n",
    "train.head()"
   ]
  },
  {
   "cell_type": "code",
   "execution_count": 4,
   "metadata": {},
   "outputs": [
    {
     "data": {
      "text/html": [
       "<div>\n",
       "<style scoped>\n",
       "    .dataframe tbody tr th:only-of-type {\n",
       "        vertical-align: middle;\n",
       "    }\n",
       "\n",
       "    .dataframe tbody tr th {\n",
       "        vertical-align: top;\n",
       "    }\n",
       "\n",
       "    .dataframe thead th {\n",
       "        text-align: right;\n",
       "    }\n",
       "</style>\n",
       "<table border=\"1\" class=\"dataframe\">\n",
       "  <thead>\n",
       "    <tr style=\"text-align: right;\">\n",
       "      <th></th>\n",
       "      <th>id</th>\n",
       "      <th>time</th>\n",
       "      <th>feature_1</th>\n",
       "      <th>feature_2</th>\n",
       "    </tr>\n",
       "  </thead>\n",
       "  <tbody>\n",
       "    <tr>\n",
       "      <th>559</th>\n",
       "      <td>559</td>\n",
       "      <td>2019-03-19 01:33:10</td>\n",
       "      <td>423.726707</td>\n",
       "      <td>54115.388787</td>\n",
       "    </tr>\n",
       "    <tr>\n",
       "      <th>560</th>\n",
       "      <td>560</td>\n",
       "      <td>2019-03-19 01:33:20</td>\n",
       "      <td>424.278568</td>\n",
       "      <td>54127.830664</td>\n",
       "    </tr>\n",
       "    <tr>\n",
       "      <th>561</th>\n",
       "      <td>561</td>\n",
       "      <td>2019-03-19 01:33:30</td>\n",
       "      <td>420.127639</td>\n",
       "      <td>54092.561194</td>\n",
       "    </tr>\n",
       "    <tr>\n",
       "      <th>562</th>\n",
       "      <td>562</td>\n",
       "      <td>2019-03-19 01:33:40</td>\n",
       "      <td>421.291993</td>\n",
       "      <td>53994.714950</td>\n",
       "    </tr>\n",
       "    <tr>\n",
       "      <th>563</th>\n",
       "      <td>563</td>\n",
       "      <td>2019-03-19 01:33:50</td>\n",
       "      <td>423.257581</td>\n",
       "      <td>53863.615475</td>\n",
       "    </tr>\n",
       "  </tbody>\n",
       "</table>\n",
       "</div>"
      ],
      "text/plain": [
       "      id                 time   feature_1     feature_2\n",
       "559  559  2019-03-19 01:33:10  423.726707  54115.388787\n",
       "560  560  2019-03-19 01:33:20  424.278568  54127.830664\n",
       "561  561  2019-03-19 01:33:30  420.127639  54092.561194\n",
       "562  562  2019-03-19 01:33:40  421.291993  53994.714950\n",
       "563  563  2019-03-19 01:33:50  423.257581  53863.615475"
      ]
     },
     "execution_count": 4,
     "metadata": {},
     "output_type": "execute_result"
    }
   ],
   "source": [
    "train.tail()"
   ]
  },
  {
   "cell_type": "code",
   "execution_count": 158,
   "metadata": {},
   "outputs": [
    {
     "name": "stdout",
     "output_type": "stream",
     "text": [
      "shape of the test data (375, 3)\n"
     ]
    },
    {
     "data": {
      "text/html": [
       "<div>\n",
       "<style scoped>\n",
       "    .dataframe tbody tr th:only-of-type {\n",
       "        vertical-align: middle;\n",
       "    }\n",
       "\n",
       "    .dataframe tbody tr th {\n",
       "        vertical-align: top;\n",
       "    }\n",
       "\n",
       "    .dataframe thead th {\n",
       "        text-align: right;\n",
       "    }\n",
       "</style>\n",
       "<table border=\"1\" class=\"dataframe\">\n",
       "  <thead>\n",
       "    <tr style=\"text-align: right;\">\n",
       "      <th></th>\n",
       "      <th>id</th>\n",
       "      <th>time</th>\n",
       "      <th>feature_1</th>\n",
       "    </tr>\n",
       "  </thead>\n",
       "  <tbody>\n",
       "    <tr>\n",
       "      <th>0</th>\n",
       "      <td>564</td>\n",
       "      <td>2019-03-19 01:34:00</td>\n",
       "      <td>423.064004</td>\n",
       "    </tr>\n",
       "    <tr>\n",
       "      <th>1</th>\n",
       "      <td>565</td>\n",
       "      <td>2019-03-19 01:34:10</td>\n",
       "      <td>423.342749</td>\n",
       "    </tr>\n",
       "    <tr>\n",
       "      <th>2</th>\n",
       "      <td>566</td>\n",
       "      <td>2019-03-19 01:34:20</td>\n",
       "      <td>423.181186</td>\n",
       "    </tr>\n",
       "    <tr>\n",
       "      <th>3</th>\n",
       "      <td>567</td>\n",
       "      <td>2019-03-19 01:34:30</td>\n",
       "      <td>421.275243</td>\n",
       "    </tr>\n",
       "    <tr>\n",
       "      <th>4</th>\n",
       "      <td>568</td>\n",
       "      <td>2019-03-19 01:34:40</td>\n",
       "      <td>422.208444</td>\n",
       "    </tr>\n",
       "  </tbody>\n",
       "</table>\n",
       "</div>"
      ],
      "text/plain": [
       "    id                 time   feature_1\n",
       "0  564  2019-03-19 01:34:00  423.064004\n",
       "1  565  2019-03-19 01:34:10  423.342749\n",
       "2  566  2019-03-19 01:34:20  423.181186\n",
       "3  567  2019-03-19 01:34:30  421.275243\n",
       "4  568  2019-03-19 01:34:40  422.208444"
      ]
     },
     "execution_count": 158,
     "metadata": {},
     "output_type": "execute_result"
    }
   ],
   "source": [
    "print(\"shape of the test data\", test.shape)\n",
    "test.head()"
   ]
  },
  {
   "cell_type": "code",
   "execution_count": null,
   "metadata": {},
   "outputs": [],
   "source": []
  },
  {
   "cell_type": "code",
   "execution_count": 5,
   "metadata": {},
   "outputs": [],
   "source": [
    "# copy the data into another variable\n",
    "\n",
    "train1 = train.copy()\n",
    "test1 = test.copy()"
   ]
  },
  {
   "cell_type": "code",
   "execution_count": null,
   "metadata": {},
   "outputs": [],
   "source": []
  },
  {
   "cell_type": "code",
   "execution_count": 6,
   "metadata": {},
   "outputs": [],
   "source": [
    "# convert the date into pandas date format\n",
    "\n",
    "train1[\"time\"] = pd.to_datetime(train1[\"time\"])\n",
    "test1[\"time\"] = pd.to_datetime(test1[\"time\"])"
   ]
  },
  {
   "cell_type": "code",
   "execution_count": null,
   "metadata": {},
   "outputs": [],
   "source": []
  },
  {
   "cell_type": "code",
   "execution_count": 7,
   "metadata": {},
   "outputs": [],
   "source": [
    "# setting time as index \n",
    "\n",
    "train_n = train1.set_index([\"time\"])\n",
    "test_n  = test1.set_index([\"time\"])"
   ]
  },
  {
   "cell_type": "code",
   "execution_count": null,
   "metadata": {},
   "outputs": [],
   "source": []
  },
  {
   "cell_type": "code",
   "execution_count": 8,
   "metadata": {},
   "outputs": [
    {
     "data": {
      "text/html": [
       "<div>\n",
       "<style scoped>\n",
       "    .dataframe tbody tr th:only-of-type {\n",
       "        vertical-align: middle;\n",
       "    }\n",
       "\n",
       "    .dataframe tbody tr th {\n",
       "        vertical-align: top;\n",
       "    }\n",
       "\n",
       "    .dataframe thead th {\n",
       "        text-align: right;\n",
       "    }\n",
       "</style>\n",
       "<table border=\"1\" class=\"dataframe\">\n",
       "  <thead>\n",
       "    <tr style=\"text-align: right;\">\n",
       "      <th></th>\n",
       "      <th>feature_1</th>\n",
       "    </tr>\n",
       "    <tr>\n",
       "      <th>time</th>\n",
       "      <th></th>\n",
       "    </tr>\n",
       "  </thead>\n",
       "  <tbody>\n",
       "    <tr>\n",
       "      <th>2019-03-19 00:00:00</th>\n",
       "      <td>735.740043</td>\n",
       "    </tr>\n",
       "    <tr>\n",
       "      <th>2019-03-19 00:00:10</th>\n",
       "      <td>734.102947</td>\n",
       "    </tr>\n",
       "    <tr>\n",
       "      <th>2019-03-19 00:00:20</th>\n",
       "      <td>730.060336</td>\n",
       "    </tr>\n",
       "    <tr>\n",
       "      <th>2019-03-19 00:00:30</th>\n",
       "      <td>725.609742</td>\n",
       "    </tr>\n",
       "    <tr>\n",
       "      <th>2019-03-19 00:00:40</th>\n",
       "      <td>724.328480</td>\n",
       "    </tr>\n",
       "  </tbody>\n",
       "</table>\n",
       "</div>"
      ],
      "text/plain": [
       "                      feature_1\n",
       "time                           \n",
       "2019-03-19 00:00:00  735.740043\n",
       "2019-03-19 00:00:10  734.102947\n",
       "2019-03-19 00:00:20  730.060336\n",
       "2019-03-19 00:00:30  725.609742\n",
       "2019-03-19 00:00:40  724.328480"
      ]
     },
     "execution_count": 8,
     "metadata": {},
     "output_type": "execute_result"
    }
   ],
   "source": [
    "# for univariate analysis we seperate feature 1 and 2\n",
    "\n",
    "f1_with_time = train_n[[\"feature_1\"]]\n",
    "f1_with_time.head()\n",
    "\n"
   ]
  },
  {
   "cell_type": "code",
   "execution_count": 9,
   "metadata": {},
   "outputs": [
    {
     "data": {
      "text/html": [
       "<div>\n",
       "<style scoped>\n",
       "    .dataframe tbody tr th:only-of-type {\n",
       "        vertical-align: middle;\n",
       "    }\n",
       "\n",
       "    .dataframe tbody tr th {\n",
       "        vertical-align: top;\n",
       "    }\n",
       "\n",
       "    .dataframe thead th {\n",
       "        text-align: right;\n",
       "    }\n",
       "</style>\n",
       "<table border=\"1\" class=\"dataframe\">\n",
       "  <thead>\n",
       "    <tr style=\"text-align: right;\">\n",
       "      <th></th>\n",
       "      <th>feature_2</th>\n",
       "    </tr>\n",
       "    <tr>\n",
       "      <th>time</th>\n",
       "      <th></th>\n",
       "    </tr>\n",
       "  </thead>\n",
       "  <tbody>\n",
       "    <tr>\n",
       "      <th>2019-03-19 00:00:00</th>\n",
       "      <td>54479.540513</td>\n",
       "    </tr>\n",
       "    <tr>\n",
       "      <th>2019-03-19 00:00:10</th>\n",
       "      <td>47888.033714</td>\n",
       "    </tr>\n",
       "    <tr>\n",
       "      <th>2019-03-19 00:00:20</th>\n",
       "      <td>47700.882325</td>\n",
       "    </tr>\n",
       "    <tr>\n",
       "      <th>2019-03-19 00:00:30</th>\n",
       "      <td>47790.094648</td>\n",
       "    </tr>\n",
       "    <tr>\n",
       "      <th>2019-03-19 00:00:40</th>\n",
       "      <td>47808.402381</td>\n",
       "    </tr>\n",
       "  </tbody>\n",
       "</table>\n",
       "</div>"
      ],
      "text/plain": [
       "                        feature_2\n",
       "time                             \n",
       "2019-03-19 00:00:00  54479.540513\n",
       "2019-03-19 00:00:10  47888.033714\n",
       "2019-03-19 00:00:20  47700.882325\n",
       "2019-03-19 00:00:30  47790.094648\n",
       "2019-03-19 00:00:40  47808.402381"
      ]
     },
     "execution_count": 9,
     "metadata": {},
     "output_type": "execute_result"
    }
   ],
   "source": [
    "f2_with_time = train_n[[\"feature_2\"]]\n",
    "f2_with_time.head()"
   ]
  },
  {
   "cell_type": "markdown",
   "metadata": {},
   "source": [
    "### Visualising the data"
   ]
  },
  {
   "cell_type": "code",
   "execution_count": 586,
   "metadata": {},
   "outputs": [
    {
     "data": {
      "text/plain": [
       "<matplotlib.axes._subplots.AxesSubplot at 0x1d3ce134c08>"
      ]
     },
     "execution_count": 586,
     "metadata": {},
     "output_type": "execute_result"
    },
    {
     "data": {
      "image/png": "[encoded data removed]",
      "text/plain": [
       "<Figure size 1080x288 with 2 Axes>"
      ]
     },
     "metadata": {
      "needs_background": "light"
     },
     "output_type": "display_data"
    }
   ],
   "source": [
    "# plotting both the series with time independently\n",
    "\n",
    "f, ax = plt.subplots(1,2 , figsize = (15,4)) \n",
    "train1.plot(x  = \"time\" ,  y = \"feature_1\", ax= ax[0], color = \"#C0392B\", title = \"Feature_1 with time\")\n",
    "train1.plot(x  = \"time\" ,  y = \"feature_2\", ax= ax[1], color = \"#AF7AC5\", title = \"Feature_2 with time\")\n",
    "\n"
   ]
  },
  {
   "cell_type": "code",
   "execution_count": null,
   "metadata": {},
   "outputs": [],
   "source": []
  },
  {
   "cell_type": "code",
   "execution_count": 590,
   "metadata": {},
   "outputs": [
    {
     "data": {
      "text/plain": [
       "<matplotlib.axes._subplots.AxesSubplot at 0x1d3cca72708>"
      ]
     },
     "execution_count": 590,
     "metadata": {},
     "output_type": "execute_result"
    },
    {
     "data": {
      "image/png": "[encoded data removed]",
      "text/plain": [
       "<Figure size 720x360 with 1 Axes>"
      ]
     },
     "metadata": {
      "needs_background": "light"
     },
     "output_type": "display_data"
    }
   ],
   "source": [
    "# plot both features together with time\n",
    "\n",
    "train_n.plot(kind = 'scatter', x = 'feature_1', y = \"feature_2\", figsize = (10,5), color = \"#AF7AC5\",title = \"Correlation between Feature_1 and Feature_2\")\n"
   ]
  },
  {
   "cell_type": "code",
   "execution_count": null,
   "metadata": {},
   "outputs": [],
   "source": []
  },
  {
   "cell_type": "markdown",
   "metadata": {},
   "source": [
    "### Decomposition"
   ]
  },
  {
   "cell_type": "code",
   "execution_count": 28,
   "metadata": {},
   "outputs": [],
   "source": [
    "#decompoition of the time series\n",
    "\n",
    "from matplotlib.pylab import rcParams\n",
    "rcParams[\"figure.figsize\"] = 10,5\n",
    "\n",
    "from statsmodels.tsa.seasonal import seasonal_decompose\n"
   ]
  },
  {
   "cell_type": "code",
   "execution_count": 30,
   "metadata": {},
   "outputs": [
    {
     "data": {
      "image/png": "[encoded data removed]",
      "text/plain": [
       "<Figure size 720x360 with 4 Axes>"
      ]
     },
     "metadata": {
      "needs_background": "light"
     },
     "output_type": "display_data"
    }
   ],
   "source": [
    "# since series is exponential tried multiplicative model\n",
    "\n",
    "decomposed_series = seasonal_decompose(f2_with_time[\"feature_2\"],model = \"multiplicative\", period = 60)\n",
    "figure  =  decomposed_series.plot()\n",
    "plt.show()"
   ]
  },
  {
   "cell_type": "code",
   "execution_count": null,
   "metadata": {},
   "outputs": [],
   "source": []
  },
  {
   "cell_type": "markdown",
   "metadata": {},
   "source": [
    "### Methods to check STATIONARITY"
   ]
  },
  {
   "cell_type": "markdown",
   "metadata": {},
   "source": [
    "Time series to be Stationary, series having \n",
    "\n",
    "1. Mean should be constant.\n",
    "2. Variance should be constant.\n",
    "3. there should not be Auto-Correlation.\n",
    "\n",
    "\n",
    "First 2 points tested by Rolling- Statistic. And last point tested by ADF(**Augmented Dickey Fuller Test**)"
   ]
  },
  {
   "cell_type": "code",
   "execution_count": null,
   "metadata": {},
   "outputs": [],
   "source": []
  },
  {
   "cell_type": "markdown",
   "metadata": {},
   "source": [
    "#### 1. Rolling mean statistics"
   ]
  },
  {
   "cell_type": "code",
   "execution_count": 11,
   "metadata": {},
   "outputs": [],
   "source": [
    "# Determine rolling statistics\n",
    "def rolling_stat(time_series):\n",
    "    rolmean  =  time_series.rolling(window = 12).mean()    #window size 12 denotes 12 months, giving rolling mean at yearly level\n",
    "    rolstd  =  time_series.rolling(window = 12).std()\n",
    "\n",
    "    #Plot rolling statistics\n",
    "    from matplotlib.pylab import rcParams\n",
    "    rcParams['figure.figsize']  =  10, 5 \n",
    "\n",
    "    orig  =  plt.plot(time_series, color = 'blue', label = 'Original')\n",
    "    mean  =  plt.plot(rolmean, color = 'red', label = 'Rolling Mean')\n",
    "    std  =  plt.plot(rolstd, color = 'black', label = 'Rolling Std')\n",
    "    plt.legend(loc = 'best')\n",
    "    plt.title('Rolling Mean & Standard Deviation')\n",
    "    plt.show(block = False)"
   ]
  },
  {
   "cell_type": "code",
   "execution_count": 12,
   "metadata": {},
   "outputs": [
    {
     "data": {
      "image/png": "[encoded data removed]",
      "text/plain": [
       "<Figure size 720x360 with 1 Axes>"
      ]
     },
     "metadata": {
      "needs_background": "light"
     },
     "output_type": "display_data"
    }
   ],
   "source": [
    "rolling_stat(f2_with_time)"
   ]
  },
  {
   "cell_type": "markdown",
   "metadata": {},
   "source": [
    "Here rolling mean is not constant changing with time. There is also some variation in rolling std. Also check with ADF test."
   ]
  },
  {
   "cell_type": "code",
   "execution_count": null,
   "metadata": {},
   "outputs": [],
   "source": []
  },
  {
   "cell_type": "markdown",
   "metadata": {},
   "source": [
    "#### 2. ADF Test"
   ]
  },
  {
   "cell_type": "code",
   "execution_count": null,
   "metadata": {},
   "outputs": [],
   "source": []
  },
  {
   "cell_type": "code",
   "execution_count": 20,
   "metadata": {},
   "outputs": [],
   "source": [
    "#Perform Augmented Dickey–Fuller test:\n",
    "def adf_test(time_series):\n",
    "    from statsmodels.tsa.stattools import adfuller\n",
    "    dftest  =  adfuller(time_series['feature_2'], autolag = 'AIC')\n",
    "\n",
    "    dfoutput  =  pd.Series(dftest[0:4], index = ['Test Statistic','p-value','#Lags Used','Number of Observations Used'])\n",
    "    for key,value in dftest[4].items():\n",
    "        dfoutput['Critical Value (%s)'%key]  =  value\n",
    "    \n",
    "    print('Results of Dickey Fuller Test:')    \n",
    "    print(dfoutput)"
   ]
  },
  {
   "cell_type": "code",
   "execution_count": 34,
   "metadata": {},
   "outputs": [
    {
     "name": "stdout",
     "output_type": "stream",
     "text": [
      "Results of Dickey Fuller Test:\n",
      "Test Statistic                  -5.464021\n",
      "p-value                          0.000002\n",
      "#Lags Used                      19.000000\n",
      "Number of Observations Used    544.000000\n",
      "Critical Value (1%)             -3.442428\n",
      "Critical Value (5%)             -2.866868\n",
      "Critical Value (10%)            -2.569607\n",
      "dtype: float64\n"
     ]
    }
   ],
   "source": [
    "adf_test(f2_with_time)"
   ]
  },
  {
   "cell_type": "markdown",
   "metadata": {},
   "source": [
    "Here **Test Statistics** is less than the **Critical Value**. That we want but there is some variation in rolling statistics mean. So more transformation can be tried."
   ]
  },
  {
   "cell_type": "markdown",
   "metadata": {},
   "source": [
    "#### Data Spliting"
   ]
  },
  {
   "cell_type": "code",
   "execution_count": 14,
   "metadata": {},
   "outputs": [],
   "source": [
    "train_ds = f2_with_time.iloc[:500, :]\n",
    "valid_ds = f2_with_time.iloc[500:564, :]"
   ]
  },
  {
   "cell_type": "code",
   "execution_count": 15,
   "metadata": {},
   "outputs": [
    {
     "name": "stdout",
     "output_type": "stream",
     "text": [
      "Shape of training set : (500, 1)\n",
      "Shape of valid set :  (64, 1)\n"
     ]
    }
   ],
   "source": [
    "print(\"Shape of training set :\" , train_ds.shape)\n",
    "print(\"Shape of valid set : \", valid_ds.shape)"
   ]
  },
  {
   "cell_type": "code",
   "execution_count": 26,
   "metadata": {},
   "outputs": [
    {
     "data": {
      "text/plain": [
       "500"
      ]
     },
     "execution_count": 26,
     "metadata": {},
     "output_type": "execute_result"
    }
   ],
   "source": [
    "len(train_ds)"
   ]
  },
  {
   "cell_type": "markdown",
   "metadata": {},
   "source": [
    "### Transformation to get Stationary Time Series"
   ]
  },
  {
   "cell_type": "markdown",
   "metadata": {},
   "source": [
    "we can transform time series by taking **log**, **Square root**,**Squaring**, **Cube**,**Cube root**,by **time shifting** or using many more transformations.\n",
    "\n",
    "Start with taking log."
   ]
  },
  {
   "cell_type": "markdown",
   "metadata": {},
   "source": [
    "#### 1. Log Transformation "
   ]
  },
  {
   "cell_type": "code",
   "execution_count": null,
   "metadata": {},
   "outputs": [],
   "source": []
  },
  {
   "cell_type": "code",
   "execution_count": 16,
   "metadata": {},
   "outputs": [
    {
     "data": {
      "text/html": [
       "<div>\n",
       "<style scoped>\n",
       "    .dataframe tbody tr th:only-of-type {\n",
       "        vertical-align: middle;\n",
       "    }\n",
       "\n",
       "    .dataframe tbody tr th {\n",
       "        vertical-align: top;\n",
       "    }\n",
       "\n",
       "    .dataframe thead th {\n",
       "        text-align: right;\n",
       "    }\n",
       "</style>\n",
       "<table border=\"1\" class=\"dataframe\">\n",
       "  <thead>\n",
       "    <tr style=\"text-align: right;\">\n",
       "      <th></th>\n",
       "      <th>feature_2</th>\n",
       "    </tr>\n",
       "    <tr>\n",
       "      <th>time</th>\n",
       "      <th></th>\n",
       "    </tr>\n",
       "  </thead>\n",
       "  <tbody>\n",
       "    <tr>\n",
       "      <th>2019-03-19 00:00:00</th>\n",
       "      <td>10.905581</td>\n",
       "    </tr>\n",
       "    <tr>\n",
       "      <th>2019-03-19 00:00:10</th>\n",
       "      <td>10.776621</td>\n",
       "    </tr>\n",
       "    <tr>\n",
       "      <th>2019-03-19 00:00:20</th>\n",
       "      <td>10.772705</td>\n",
       "    </tr>\n",
       "    <tr>\n",
       "      <th>2019-03-19 00:00:30</th>\n",
       "      <td>10.774574</td>\n",
       "    </tr>\n",
       "    <tr>\n",
       "      <th>2019-03-19 00:00:40</th>\n",
       "      <td>10.774957</td>\n",
       "    </tr>\n",
       "  </tbody>\n",
       "</table>\n",
       "</div>"
      ],
      "text/plain": [
       "                     feature_2\n",
       "time                          \n",
       "2019-03-19 00:00:00  10.905581\n",
       "2019-03-19 00:00:10  10.776621\n",
       "2019-03-19 00:00:20  10.772705\n",
       "2019-03-19 00:00:30  10.774574\n",
       "2019-03-19 00:00:40  10.774957"
      ]
     },
     "execution_count": 16,
     "metadata": {},
     "output_type": "execute_result"
    }
   ],
   "source": [
    "f2_log = np.log(f2_with_time)\n",
    "f2_log.head()"
   ]
  },
  {
   "cell_type": "code",
   "execution_count": 105,
   "metadata": {},
   "outputs": [
    {
     "data": {
      "text/html": [
       "<div>\n",
       "<style scoped>\n",
       "    .dataframe tbody tr th:only-of-type {\n",
       "        vertical-align: middle;\n",
       "    }\n",
       "\n",
       "    .dataframe tbody tr th {\n",
       "        vertical-align: top;\n",
       "    }\n",
       "\n",
       "    .dataframe thead th {\n",
       "        text-align: right;\n",
       "    }\n",
       "</style>\n",
       "<table border=\"1\" class=\"dataframe\">\n",
       "  <thead>\n",
       "    <tr style=\"text-align: right;\">\n",
       "      <th></th>\n",
       "      <th>feature_2</th>\n",
       "    </tr>\n",
       "    <tr>\n",
       "      <th>time</th>\n",
       "      <th></th>\n",
       "    </tr>\n",
       "  </thead>\n",
       "  <tbody>\n",
       "    <tr>\n",
       "      <th>2019-03-19 01:33:10</th>\n",
       "      <td>10.898874</td>\n",
       "    </tr>\n",
       "    <tr>\n",
       "      <th>2019-03-19 01:33:20</th>\n",
       "      <td>10.899104</td>\n",
       "    </tr>\n",
       "    <tr>\n",
       "      <th>2019-03-19 01:33:30</th>\n",
       "      <td>10.898452</td>\n",
       "    </tr>\n",
       "    <tr>\n",
       "      <th>2019-03-19 01:33:40</th>\n",
       "      <td>10.896641</td>\n",
       "    </tr>\n",
       "    <tr>\n",
       "      <th>2019-03-19 01:33:50</th>\n",
       "      <td>10.894210</td>\n",
       "    </tr>\n",
       "  </tbody>\n",
       "</table>\n",
       "</div>"
      ],
      "text/plain": [
       "                     feature_2\n",
       "time                          \n",
       "2019-03-19 01:33:10  10.898874\n",
       "2019-03-19 01:33:20  10.899104\n",
       "2019-03-19 01:33:30  10.898452\n",
       "2019-03-19 01:33:40  10.896641\n",
       "2019-03-19 01:33:50  10.894210"
      ]
     },
     "execution_count": 105,
     "metadata": {},
     "output_type": "execute_result"
    }
   ],
   "source": [
    "f2_log.tail()"
   ]
  },
  {
   "cell_type": "code",
   "execution_count": 17,
   "metadata": {},
   "outputs": [
    {
     "data": {
      "text/plain": [
       "<matplotlib.axes._subplots.AxesSubplot at 0x1d3c79dcc48>"
      ]
     },
     "execution_count": 17,
     "metadata": {},
     "output_type": "execute_result"
    },
    {
     "data": {
      "image/png": "[encoded data removed]",
      "text/plain": [
       "<Figure size 720x360 with 1 Axes>"
      ]
     },
     "metadata": {
      "needs_background": "light"
     },
     "output_type": "display_data"
    }
   ],
   "source": [
    "f2_log.plot()"
   ]
  },
  {
   "cell_type": "code",
   "execution_count": 18,
   "metadata": {},
   "outputs": [
    {
     "data": {
      "image/png": "[encoded data removed]",
      "text/plain": [
       "<Figure size 720x360 with 1 Axes>"
      ]
     },
     "metadata": {
      "needs_background": "light"
     },
     "output_type": "display_data"
    }
   ],
   "source": [
    "rolling_stat(f2_log)"
   ]
  },
  {
   "cell_type": "code",
   "execution_count": 21,
   "metadata": {},
   "outputs": [
    {
     "name": "stdout",
     "output_type": "stream",
     "text": [
      "Results of Dickey Fuller Test:\n",
      "Test Statistic                -5.664120e+00\n",
      "p-value                        9.235365e-07\n",
      "#Lags Used                     1.900000e+01\n",
      "Number of Observations Used    5.440000e+02\n",
      "Critical Value (1%)           -3.442428e+00\n",
      "Critical Value (5%)           -2.866868e+00\n",
      "Critical Value (10%)          -2.569607e+00\n",
      "dtype: float64\n"
     ]
    }
   ],
   "source": [
    "adf_test(f2_log)"
   ]
  },
  {
   "cell_type": "code",
   "execution_count": null,
   "metadata": {},
   "outputs": [],
   "source": []
  },
  {
   "cell_type": "markdown",
   "metadata": {},
   "source": [
    "#### 2. TIme Shifting"
   ]
  },
  {
   "cell_type": "code",
   "execution_count": 22,
   "metadata": {},
   "outputs": [
    {
     "data": {
      "image/png": "[encoded data removed]",
      "text/plain": [
       "<Figure size 720x360 with 1 Axes>"
      ]
     },
     "metadata": {
      "needs_background": "light"
     },
     "output_type": "display_data"
    }
   ],
   "source": [
    "# tried time shifting \n",
    "\n",
    "f2_log_shift  =  f2_log - f2_log.shift()\n",
    "plt.plot(f2_log_shift)\n",
    "f2_log_shift.dropna(inplace = True)"
   ]
  },
  {
   "cell_type": "code",
   "execution_count": 23,
   "metadata": {},
   "outputs": [
    {
     "data": {
      "image/png": "[encoded data removed]",
      "text/plain": [
       "<Figure size 720x360 with 1 Axes>"
      ]
     },
     "metadata": {
      "needs_background": "light"
     },
     "output_type": "display_data"
    }
   ],
   "source": [
    "rolling_stat(f2_log_shift)"
   ]
  },
  {
   "cell_type": "code",
   "execution_count": 45,
   "metadata": {},
   "outputs": [
    {
     "name": "stdout",
     "output_type": "stream",
     "text": [
      "Results of Dickey Fuller Test:\n",
      "Test Statistic                -1.304047e+01\n",
      "p-value                        2.246740e-24\n",
      "#Lags Used                     1.000000e+00\n",
      "Number of Observations Used    5.610000e+02\n",
      "Critical Value (1%)           -3.442060e+00\n",
      "Critical Value (5%)           -2.866706e+00\n",
      "Critical Value (10%)          -2.569521e+00\n",
      "dtype: float64\n"
     ]
    }
   ],
   "source": [
    "adf_test(f2_log_shift)"
   ]
  },
  {
   "cell_type": "code",
   "execution_count": null,
   "metadata": {},
   "outputs": [],
   "source": []
  },
  {
   "cell_type": "markdown",
   "metadata": {},
   "source": [
    "#### Ploting ACF and PACF"
   ]
  },
  {
   "cell_type": "markdown",
   "metadata": {},
   "source": []
  },
  {
   "cell_type": "code",
   "execution_count": 46,
   "metadata": {},
   "outputs": [
    {
     "data": {
      "image/png": "[encoded data removed]",
      "text/plain": [
       "<Figure size 720x360 with 2 Axes>"
      ]
     },
     "metadata": {
      "needs_background": "light"
     },
     "output_type": "display_data"
    }
   ],
   "source": [
    "#ACF & PACF plots\n",
    "\n",
    "from statsmodels.tsa.stattools import acf, pacf\n",
    "\n",
    "lag_acf  =  acf(f2_log_shift, nlags = 20)\n",
    "lag_pacf  =  pacf(f2_log_shift, nlags = 20, method = 'ols')\n",
    "\n",
    "\n",
    "rcParams['figure.figsize']  =  10, 5\n",
    "#Plot ACF:\n",
    "plt.subplot(121)\n",
    "plt.plot(lag_acf)\n",
    "plt.axhline(y = 0, linestyle = '--', color = 'gray')\n",
    "plt.axhline(y = -1.96/np.sqrt(len(f2_log_shift)), linestyle = '--', color = 'gray')\n",
    "plt.axhline(y = 1.96/np.sqrt(len(f2_log_shift)), linestyle = '--', color = 'gray')\n",
    "plt.xticks(np.arange(0,22,2))\n",
    "plt.title('Autocorrelation Function')            \n",
    "\n",
    "#Plot PACF\n",
    "plt.subplot(122)\n",
    "plt.plot(lag_pacf)\n",
    "plt.axhline(y = 0, linestyle = '--', color = 'gray')\n",
    "plt.axhline(y = -1.96/np.sqrt(len(f2_log_shift)), linestyle = '--', color = 'gray')\n",
    "plt.axhline(y = 1.96/np.sqrt(len(f2_log_shift)), linestyle = '--', color = 'gray')\n",
    "plt.xticks(np.arange(0,22,2))\n",
    "plt.title('Partial Autocorrelation Function')\n",
    "            \n",
    "plt.tight_layout()            "
   ]
  },
  {
   "cell_type": "markdown",
   "metadata": {},
   "source": [
    "Tried to Plot using **Plot_acf , plot_pacf**"
   ]
  },
  {
   "cell_type": "code",
   "execution_count": 195,
   "metadata": {},
   "outputs": [],
   "source": [
    "from statsmodels.graphics.tsaplots import plot_acf, plot_pacf"
   ]
  },
  {
   "cell_type": "code",
   "execution_count": 199,
   "metadata": {},
   "outputs": [
    {
     "data": {
      "image/png": "[encoded data removed]",
      "text/plain": [
       "<Figure size 720x360 with 1 Axes>"
      ]
     },
     "execution_count": 199,
     "metadata": {},
     "output_type": "execute_result"
    },
    {
     "data": {
      "image/png": "[encoded data removed]",
      "text/plain": [
       "<Figure size 720x360 with 1 Axes>"
      ]
     },
     "metadata": {
      "needs_background": "light"
     },
     "output_type": "display_data"
    }
   ],
   "source": [
    "plot_acf(f2_log_shift)"
   ]
  },
  {
   "cell_type": "code",
   "execution_count": null,
   "metadata": {},
   "outputs": [],
   "source": []
  },
  {
   "cell_type": "code",
   "execution_count": 200,
   "metadata": {},
   "outputs": [
    {
     "data": {
      "image/png": "[encoded data removed]",
      "text/plain": [
       "<Figure size 720x360 with 1 Axes>"
      ]
     },
     "execution_count": 200,
     "metadata": {},
     "output_type": "execute_result"
    },
    {
     "data": {
      "image/png": "[encoded data removed]",
      "text/plain": [
       "<Figure size 720x360 with 1 Axes>"
      ]
     },
     "metadata": {
      "needs_background": "light"
     },
     "output_type": "display_data"
    }
   ],
   "source": [
    "plot_pacf(f2_log_shift)"
   ]
  },
  {
   "cell_type": "markdown",
   "metadata": {},
   "source": [
    "Both ACF And PACF values are 2.\n",
    "so, p = 2\n",
    "    q = 2"
   ]
  },
  {
   "cell_type": "markdown",
   "metadata": {},
   "source": [
    "### Building Models"
   ]
  },
  {
   "cell_type": "markdown",
   "metadata": {},
   "source": [
    "### 1. ARIMA Model - Autoregressive Integreted Moving Averages"
   ]
  },
  {
   "cell_type": "code",
   "execution_count": 25,
   "metadata": {
    "scrolled": true
   },
   "outputs": [
    {
     "name": "stdout",
     "output_type": "stream",
     "text": [
      "Lag: 6\n",
      "Coefficients: const              0.000105\n",
      "ar.L1.feature_2    1.497924\n",
      "ar.L2.feature_2   -0.015714\n",
      "ar.L3.feature_2   -1.251473\n",
      "ar.L4.feature_2    1.007574\n",
      "ar.L5.feature_2   -0.283786\n",
      "ar.L6.feature_2   -0.030780\n",
      "ma.L1.feature_2    0.001564\n",
      "ma.L2.feature_2   -0.998436\n",
      "dtype: float64\n"
     ]
    }
   ],
   "source": [
    "from statsmodels.tsa.arima_model import ARIMA\n",
    "model = ARIMA(f2_log_shift.iloc[:500,:], order = (6,0,2))\n",
    "model_fit = model.fit()\n",
    "print('Lag: %s' % model_fit.k_ar)\n",
    "print('Coefficients: %s' % model_fit.params)\n",
    "\n",
    "# #ARIMA(2,0,2) = ARMA (2,2)"
   ]
  },
  {
   "cell_type": "code",
   "execution_count": 46,
   "metadata": {},
   "outputs": [],
   "source": [
    "# prrdicting for validtating set\n",
    "\n",
    "valid_pred = model_fit.predict(start = len(train_ds), end = len(train_ds)+ len(valid_ds)-2)"
   ]
  },
  {
   "cell_type": "code",
   "execution_count": 49,
   "metadata": {},
   "outputs": [
    {
     "data": {
      "text/plain": [
       "2019-03-19 01:23:30   -0.001176\n",
       "2019-03-19 01:23:40   -0.001182\n",
       "2019-03-19 01:23:50   -0.000586\n",
       "2019-03-19 01:24:00    0.000027\n",
       "2019-03-19 01:24:10    0.000391\n",
       "Freq: 10S, dtype: float64"
      ]
     },
     "execution_count": 49,
     "metadata": {},
     "output_type": "execute_result"
    }
   ],
   "source": [
    "pred_ARIMA_diff = pd.Series(valid_pred, copy=True)\n",
    "pred_ARIMA_diff.head()"
   ]
  },
  {
   "cell_type": "code",
   "execution_count": 50,
   "metadata": {},
   "outputs": [
    {
     "data": {
      "text/plain": [
       "2019-03-19 01:23:30   -0.001176\n",
       "2019-03-19 01:23:40   -0.002358\n",
       "2019-03-19 01:23:50   -0.002944\n",
       "2019-03-19 01:24:00   -0.002917\n",
       "2019-03-19 01:24:10   -0.002526\n",
       "Freq: 10S, dtype: float64"
      ]
     },
     "execution_count": 50,
     "metadata": {},
     "output_type": "execute_result"
    }
   ],
   "source": [
    "# calculating cumalative sum\n",
    "\n",
    "pred_ARIMA_cumsum = pred_ARIMA_diff.cumsum()\n",
    "pred_ARIMA_cumsum.head()"
   ]
  },
  {
   "cell_type": "code",
   "execution_count": 51,
   "metadata": {},
   "outputs": [
    {
     "data": {
      "text/plain": [
       "2019-03-19 01:23:20    10.896957\n",
       "2019-03-19 01:23:30    10.895064\n",
       "2019-03-19 01:23:40    10.894025\n",
       "2019-03-19 01:23:50    10.893700\n",
       "2019-03-19 01:24:00    10.894658\n",
       "dtype: float64"
      ]
     },
     "execution_count": 51,
     "metadata": {},
     "output_type": "execute_result"
    }
   ],
   "source": [
    "#Transforming into log values\n",
    "\n",
    "pred_ARIMA_log = pd.Series(f2_log['feature_2'].iloc[500:], index=valid_ds.index)\n",
    "predictions_ARIMA_log = pred_ARIMA_log.add(pred_ARIMA_cumsum,fill_value=0)\n",
    "predictions_ARIMA_log.head()"
   ]
  },
  {
   "cell_type": "code",
   "execution_count": 52,
   "metadata": {},
   "outputs": [
    {
     "data": {
      "text/html": [
       "<div>\n",
       "<style scoped>\n",
       "    .dataframe tbody tr th:only-of-type {\n",
       "        vertical-align: middle;\n",
       "    }\n",
       "\n",
       "    .dataframe tbody tr th {\n",
       "        vertical-align: top;\n",
       "    }\n",
       "\n",
       "    .dataframe thead th {\n",
       "        text-align: right;\n",
       "    }\n",
       "</style>\n",
       "<table border=\"1\" class=\"dataframe\">\n",
       "  <thead>\n",
       "    <tr style=\"text-align: right;\">\n",
       "      <th></th>\n",
       "      <th>0</th>\n",
       "    </tr>\n",
       "  </thead>\n",
       "  <tbody>\n",
       "    <tr>\n",
       "      <th>2019-03-19 01:23:20</th>\n",
       "      <td>54011.760484</td>\n",
       "    </tr>\n",
       "    <tr>\n",
       "      <th>2019-03-19 01:23:30</th>\n",
       "      <td>53909.612404</td>\n",
       "    </tr>\n",
       "    <tr>\n",
       "      <th>2019-03-19 01:23:40</th>\n",
       "      <td>53853.647686</td>\n",
       "    </tr>\n",
       "    <tr>\n",
       "      <th>2019-03-19 01:23:50</th>\n",
       "      <td>53836.137774</td>\n",
       "    </tr>\n",
       "    <tr>\n",
       "      <th>2019-03-19 01:24:00</th>\n",
       "      <td>53887.714339</td>\n",
       "    </tr>\n",
       "  </tbody>\n",
       "</table>\n",
       "</div>"
      ],
      "text/plain": [
       "                                0\n",
       "2019-03-19 01:23:20  54011.760484\n",
       "2019-03-19 01:23:30  53909.612404\n",
       "2019-03-19 01:23:40  53853.647686\n",
       "2019-03-19 01:23:50  53836.137774\n",
       "2019-03-19 01:24:00  53887.714339"
      ]
     },
     "execution_count": 52,
     "metadata": {},
     "output_type": "execute_result"
    }
   ],
   "source": [
    "# log values are tranformed into normal values\n",
    "\n",
    "reverted_back_prediction = pd.DataFrame(np.exp(predictions_ARIMA_log))\n",
    "reverted_back_prediction.head()\n",
    "\n",
    "# all transforormation in reverse order."
   ]
  },
  {
   "cell_type": "markdown",
   "metadata": {},
   "source": [
    "##### Visualisation of predicted and Actual time series"
   ]
  },
  {
   "cell_type": "code",
   "execution_count": 607,
   "metadata": {},
   "outputs": [
    {
     "data": {
      "image/png": "[encoded data removed]",
      "text/plain": [
       "<Figure size 720x360 with 1 Axes>"
      ]
     },
     "metadata": {
      "needs_background": "light"
     },
     "output_type": "display_data"
    }
   ],
   "source": [
    "\n",
    "from matplotlib import pyplot\n",
    "pyplot.plot(f2_with_time.iloc[500:], label = \"original\", marker = \"v\" )\n",
    "pyplot.plot(reverted_back_prediction[:63], color='red',linestyle = \"dashed\", label = \"predicted\",marker = \"*\" )\n",
    "pyplot.legend()\n",
    "pyplot.show()"
   ]
  },
  {
   "cell_type": "markdown",
   "metadata": {},
   "source": [
    "#### Error Calculation"
   ]
  },
  {
   "cell_type": "code",
   "execution_count": 55,
   "metadata": {},
   "outputs": [
    {
     "name": "stdout",
     "output_type": "stream",
     "text": [
      " MSE: 40330.052\n",
      "RMSE : 200.823\n"
     ]
    }
   ],
   "source": [
    "from sklearn.metrics import mean_squared_error\n",
    "error = mean_squared_error(f2_with_time.iloc[500:563], reverted_back_prediction[:63])\n",
    "print(' MSE: %.3f' % error)\n",
    "\n",
    "print(\"RMSE : %.3f\" % np.sqrt(error))"
   ]
  },
  {
   "cell_type": "markdown",
   "metadata": {},
   "source": [
    "So, here rmse is 200, which is better than AR and MA model. But this value is also not so good, so try for another Model."
   ]
  },
  {
   "cell_type": "markdown",
   "metadata": {},
   "source": [
    "### 2. SARIMA Model"
   ]
  },
  {
   "cell_type": "code",
   "execution_count": null,
   "metadata": {},
   "outputs": [],
   "source": []
  },
  {
   "cell_type": "code",
   "execution_count": 305,
   "metadata": {},
   "outputs": [],
   "source": [
    "# here a new component is included which is seasonality, since here time difference 10s so, i took 10.\n",
    "\n",
    "import statsmodels.api as sm\n",
    "model_s = sm.tsa.statespace.SARIMAX(f2_log_shift.iloc[:500,:], order = (6,0,6), seasonal_oredr = (6,0,6,10))\n",
    "model_s_fit = model_s.fit()"
   ]
  },
  {
   "cell_type": "code",
   "execution_count": 307,
   "metadata": {},
   "outputs": [],
   "source": [
    "# predicting for validation set\n",
    "\n",
    "valid_s_pred = model_s_fit.predict(start = len(train_ds), end = len(train_ds)+ len(valid_ds)-2)"
   ]
  },
  {
   "cell_type": "code",
   "execution_count": 311,
   "metadata": {},
   "outputs": [
    {
     "data": {
      "text/plain": [
       "2019-03-19 01:23:30   -0.000335\n",
       "2019-03-19 01:23:40   -0.000498\n",
       "2019-03-19 01:23:50   -0.000537\n",
       "2019-03-19 01:24:00   -0.000530\n",
       "2019-03-19 01:24:10   -0.000580\n",
       "Freq: 10S, dtype: float64"
      ]
     },
     "execution_count": 311,
     "metadata": {},
     "output_type": "execute_result"
    }
   ],
   "source": [
    "# calculating for cumalative sum\n",
    "\n",
    "pred_SARIMA_diff = pd.Series(valid_s_pred, copy=True)\n",
    "pred_SARIMA_cumsum = pred_SARIMA_diff.cumsum()\n",
    "pred_SARIMA_cumsum.head()"
   ]
  },
  {
   "cell_type": "code",
   "execution_count": 312,
   "metadata": {},
   "outputs": [
    {
     "data": {
      "text/plain": [
       "2019-03-19 01:23:20    10.896957\n",
       "2019-03-19 01:23:30    10.895905\n",
       "2019-03-19 01:23:40    10.895886\n",
       "2019-03-19 01:23:50    10.896107\n",
       "2019-03-19 01:24:00    10.897045\n",
       "dtype: float64"
      ]
     },
     "execution_count": 312,
     "metadata": {},
     "output_type": "execute_result"
    }
   ],
   "source": [
    "# log transformation\n",
    "\n",
    "pred_SARIMA_log1 = pd.Series(f2_log['feature_2'].iloc[500:], index=valid_ds.index)\n",
    "predictions_SARIMA_log1 = pred_SARIMA_log1.add(pred_SARIMA_cumsum,fill_value=0)\n",
    "predictions_SARIMA_log1.head()"
   ]
  },
  {
   "cell_type": "code",
   "execution_count": 313,
   "metadata": {
    "scrolled": true
   },
   "outputs": [
    {
     "data": {
      "text/html": [
       "<div>\n",
       "<style scoped>\n",
       "    .dataframe tbody tr th:only-of-type {\n",
       "        vertical-align: middle;\n",
       "    }\n",
       "\n",
       "    .dataframe tbody tr th {\n",
       "        vertical-align: top;\n",
       "    }\n",
       "\n",
       "    .dataframe thead th {\n",
       "        text-align: right;\n",
       "    }\n",
       "</style>\n",
       "<table border=\"1\" class=\"dataframe\">\n",
       "  <thead>\n",
       "    <tr style=\"text-align: right;\">\n",
       "      <th></th>\n",
       "      <th>0</th>\n",
       "    </tr>\n",
       "  </thead>\n",
       "  <tbody>\n",
       "    <tr>\n",
       "      <th>2019-03-19 01:23:20</th>\n",
       "      <td>54011.760484</td>\n",
       "    </tr>\n",
       "    <tr>\n",
       "      <th>2019-03-19 01:23:30</th>\n",
       "      <td>53964.067300</td>\n",
       "    </tr>\n",
       "    <tr>\n",
       "      <th>2019-03-19 01:23:40</th>\n",
       "      <td>53969.162204</td>\n",
       "    </tr>\n",
       "    <tr>\n",
       "      <th>2019-03-19 01:23:50</th>\n",
       "      <td>53982.172055</td>\n",
       "    </tr>\n",
       "    <tr>\n",
       "      <th>2019-03-19 01:24:00</th>\n",
       "      <td>54038.208009</td>\n",
       "    </tr>\n",
       "  </tbody>\n",
       "</table>\n",
       "</div>"
      ],
      "text/plain": [
       "                                0\n",
       "2019-03-19 01:23:20  54011.760484\n",
       "2019-03-19 01:23:30  53964.067300\n",
       "2019-03-19 01:23:40  53969.162204\n",
       "2019-03-19 01:23:50  53982.172055\n",
       "2019-03-19 01:24:00  54038.208009"
      ]
     },
     "execution_count": 313,
     "metadata": {},
     "output_type": "execute_result"
    }
   ],
   "source": [
    "# reverted back from log to normal vales\n",
    "\n",
    "reverted_back_pred_S = pd.DataFrame(np.exp(predictions_SARIMA_log))\n",
    "reverted_back_pred_S.head()\n"
   ]
  },
  {
   "cell_type": "markdown",
   "metadata": {},
   "source": [
    "##### Visualising predicted versus Actual "
   ]
  },
  {
   "cell_type": "code",
   "execution_count": 601,
   "metadata": {},
   "outputs": [
    {
     "data": {
      "image/png": "[encoded data removed]",
      "text/plain": [
       "<Figure size 720x360 with 1 Axes>"
      ]
     },
     "metadata": {
      "needs_background": "light"
     },
     "output_type": "display_data"
    }
   ],
   "source": [
    "from matplotlib import pyplot\n",
    "pyplot.plot(f2_with_time.iloc[500:], linestyle = \"dashed\", label = \"original\" )\n",
    "pyplot.plot(reverted_back_pred_S[:63], color='red',marker = \"o\", label = \"predicted\",linestyle = \"dashed\")\n",
    "pyplot.legend()\n",
    "pyplot.show()"
   ]
  },
  {
   "cell_type": "markdown",
   "metadata": {},
   "source": [
    "#### Calculating RMSE"
   ]
  },
  {
   "cell_type": "code",
   "execution_count": 330,
   "metadata": {},
   "outputs": [
    {
     "name": "stdout",
     "output_type": "stream",
     "text": [
      " MSE: 29884.192\n",
      "RMSE : 172.870\n"
     ]
    }
   ],
   "source": [
    "\n",
    "error2 = mean_squared_error(f2_with_time.iloc[500:563], reverted_back_pred_S[:63])\n",
    "print(' MSE: %.3f' % error2)\n",
    "\n",
    "print(\"RMSE : %.3f\" % np.sqrt(error2))"
   ]
  },
  {
   "cell_type": "markdown",
   "metadata": {},
   "source": [
    "RMSE going down from 200(ARIMA) to 172 (SARIMA). Trying for MULTIVARIATE Timeseries"
   ]
  },
  {
   "cell_type": "markdown",
   "metadata": {},
   "source": [
    "### 3. VAR "
   ]
  },
  {
   "cell_type": "code",
   "execution_count": 582,
   "metadata": {},
   "outputs": [],
   "source": [
    "# dropping id column\n",
    "\n",
    "v_ds = train_n.drop(\"id\", axis =1)"
   ]
  },
  {
   "cell_type": "code",
   "execution_count": 225,
   "metadata": {},
   "outputs": [],
   "source": [
    "# spliting into train and valid sets\n",
    "\n",
    "v_train1 = v_ds.iloc[:500,:]\n",
    "v_valid  = v_ds.iloc[500:,:]"
   ]
  },
  {
   "cell_type": "code",
   "execution_count": 217,
   "metadata": {},
   "outputs": [],
   "source": [
    "from statsmodels.tsa.api import VAR\n",
    "from statsmodels.tsa.api import VARMAX\n",
    "from statsmodels.tools.eval_measures import rmse, aic"
   ]
  },
  {
   "cell_type": "code",
   "execution_count": null,
   "metadata": {},
   "outputs": [],
   "source": [
    "\n"
   ]
  },
  {
   "cell_type": "code",
   "execution_count": 264,
   "metadata": {},
   "outputs": [],
   "source": [
    "# fitting values into model\n",
    "\n",
    "v_model1 = VARMAX(v_train1,order=(0,1),trend='c')\n",
    "v_result1 = v_model1.fit(maxiter = 100, disp = False)"
   ]
  },
  {
   "cell_type": "code",
   "execution_count": 269,
   "metadata": {
    "scrolled": true
   },
   "outputs": [
    {
     "data": {
      "text/html": [
       "<div>\n",
       "<style scoped>\n",
       "    .dataframe tbody tr th:only-of-type {\n",
       "        vertical-align: middle;\n",
       "    }\n",
       "\n",
       "    .dataframe tbody tr th {\n",
       "        vertical-align: top;\n",
       "    }\n",
       "\n",
       "    .dataframe thead th {\n",
       "        text-align: right;\n",
       "    }\n",
       "</style>\n",
       "<table border=\"1\" class=\"dataframe\">\n",
       "  <thead>\n",
       "    <tr style=\"text-align: right;\">\n",
       "      <th></th>\n",
       "      <th>feature_1</th>\n",
       "      <th>feature_2</th>\n",
       "    </tr>\n",
       "  </thead>\n",
       "  <tbody>\n",
       "    <tr>\n",
       "      <th>2019-03-19 02:36:00</th>\n",
       "      <td>535.027738</td>\n",
       "      <td>52304.736359</td>\n",
       "    </tr>\n",
       "    <tr>\n",
       "      <th>2019-03-19 02:36:10</th>\n",
       "      <td>535.027738</td>\n",
       "      <td>52304.736359</td>\n",
       "    </tr>\n",
       "    <tr>\n",
       "      <th>2019-03-19 02:36:20</th>\n",
       "      <td>535.027738</td>\n",
       "      <td>52304.736359</td>\n",
       "    </tr>\n",
       "    <tr>\n",
       "      <th>2019-03-19 02:36:30</th>\n",
       "      <td>535.027738</td>\n",
       "      <td>52304.736359</td>\n",
       "    </tr>\n",
       "    <tr>\n",
       "      <th>2019-03-19 02:36:40</th>\n",
       "      <td>535.027738</td>\n",
       "      <td>52304.736359</td>\n",
       "    </tr>\n",
       "  </tbody>\n",
       "</table>\n",
       "</div>"
      ],
      "text/plain": [
       "                      feature_1     feature_2\n",
       "2019-03-19 02:36:00  535.027738  52304.736359\n",
       "2019-03-19 02:36:10  535.027738  52304.736359\n",
       "2019-03-19 02:36:20  535.027738  52304.736359\n",
       "2019-03-19 02:36:30  535.027738  52304.736359\n",
       "2019-03-19 02:36:40  535.027738  52304.736359"
      ]
     },
     "execution_count": 269,
     "metadata": {},
     "output_type": "execute_result"
    }
   ],
   "source": [
    "# predcting values for validation set and test set\n",
    "\n",
    "v_pred = v_result1.predict(satrt = 0, end = 940)\n",
    "v_pred.tail()"
   ]
  },
  {
   "cell_type": "markdown",
   "metadata": {},
   "source": [
    "##### Visualising Actual and Predicted Feature_2"
   ]
  },
  {
   "cell_type": "code",
   "execution_count": 615,
   "metadata": {},
   "outputs": [
    {
     "data": {
      "text/plain": [
       "<matplotlib.legend.Legend at 0x1d3cf607e08>"
      ]
     },
     "execution_count": 615,
     "metadata": {},
     "output_type": "execute_result"
    },
    {
     "data": {
      "image/png": "[encoded data removed]",
      "text/plain": [
       "<Figure size 720x360 with 1 Axes>"
      ]
     },
     "metadata": {
      "needs_background": "light"
     },
     "output_type": "display_data"
    }
   ],
   "source": [
    "\n",
    "\n",
    "pyplot.plot(v_train[\"feature_2\"], label = \"train\" )\n",
    "pyplot.plot(v_valid[\"feature_2\"], label = \"valid\" )\n",
    "pyplot.plot(v_pred[\"feature_2\"], label = \"test\" )\n",
    "pyplot.title(\"Train, Valid, predicted Feature_2  \")\n",
    "pyplot.legend()"
   ]
  },
  {
   "cell_type": "code",
   "execution_count": 616,
   "metadata": {},
   "outputs": [
    {
     "data": {
      "text/plain": [
       "Text(0.5, 1.0, 'Train, Valid, Predicted Feature_1')"
      ]
     },
     "execution_count": 616,
     "metadata": {},
     "output_type": "execute_result"
    },
    {
     "data": {
      "image/png": "[encoded data removed]",
      "text/plain": [
       "<Figure size 720x360 with 1 Axes>"
      ]
     },
     "metadata": {
      "needs_background": "light"
     },
     "output_type": "display_data"
    }
   ],
   "source": [
    "pyplot.plot(v_train[\"feature_1\"], label = \"train\")\n",
    "pyplot.plot(v_valid[\"feature_1\"],label = \"valid\")\n",
    "pyplot.plot(v_pred[\"feature_1\"], label = \"predicted\")\n",
    "pyplot.legend()\n",
    "pyplot.title(\"Train, Valid, Predicted Feature_1\")"
   ]
  },
  {
   "cell_type": "code",
   "execution_count": 271,
   "metadata": {},
   "outputs": [],
   "source": [
    "v_val_pred = v_pred[500:564]"
   ]
  },
  {
   "cell_type": "markdown",
   "metadata": {},
   "source": [
    "#### Error Calculation"
   ]
  },
  {
   "cell_type": "code",
   "execution_count": 273,
   "metadata": {},
   "outputs": [
    {
     "name": "stdout",
     "output_type": "stream",
     "text": [
      " MSE: 2581952.339\n",
      "RMSE : 1606.845\n"
     ]
    }
   ],
   "source": [
    "error4 = mean_squared_error(v_valid[\"feature_2\"], v_val_pred[\"feature_2\"])\n",
    "print(' MSE: %.3f' % error4)\n",
    "\n",
    "print(\"RMSE : %.3f\" % np.sqrt(error4))"
   ]
  },
  {
   "cell_type": "markdown",
   "metadata": {},
   "source": [
    "Here error goes very high from172 to 1606"
   ]
  },
  {
   "cell_type": "code",
   "execution_count": null,
   "metadata": {},
   "outputs": [],
   "source": []
  },
  {
   "cell_type": "code",
   "execution_count": null,
   "metadata": {},
   "outputs": [],
   "source": []
  },
  {
   "cell_type": "code",
   "execution_count": null,
   "metadata": {},
   "outputs": [],
   "source": []
  },
  {
   "cell_type": "markdown",
   "metadata": {},
   "source": [
    "### 4. Linear Regression"
   ]
  },
  {
   "cell_type": "markdown",
   "metadata": {},
   "source": [
    "Tried the Time Series Preoblem with Linear Regression "
   ]
  },
  {
   "cell_type": "code",
   "execution_count": 9,
   "metadata": {},
   "outputs": [
    {
     "data": {
      "text/html": [
       "<div>\n",
       "<style scoped>\n",
       "    .dataframe tbody tr th:only-of-type {\n",
       "        vertical-align: middle;\n",
       "    }\n",
       "\n",
       "    .dataframe tbody tr th {\n",
       "        vertical-align: top;\n",
       "    }\n",
       "\n",
       "    .dataframe thead th {\n",
       "        text-align: right;\n",
       "    }\n",
       "</style>\n",
       "<table border=\"1\" class=\"dataframe\">\n",
       "  <thead>\n",
       "    <tr style=\"text-align: right;\">\n",
       "      <th></th>\n",
       "      <th>id</th>\n",
       "      <th>time</th>\n",
       "      <th>feature_1</th>\n",
       "      <th>feature_2</th>\n",
       "    </tr>\n",
       "  </thead>\n",
       "  <tbody>\n",
       "    <tr>\n",
       "      <th>0</th>\n",
       "      <td>0</td>\n",
       "      <td>2019-03-19 00:00:00</td>\n",
       "      <td>735.740043</td>\n",
       "      <td>54479.540513</td>\n",
       "    </tr>\n",
       "    <tr>\n",
       "      <th>1</th>\n",
       "      <td>1</td>\n",
       "      <td>2019-03-19 00:00:10</td>\n",
       "      <td>734.102947</td>\n",
       "      <td>47888.033714</td>\n",
       "    </tr>\n",
       "    <tr>\n",
       "      <th>2</th>\n",
       "      <td>2</td>\n",
       "      <td>2019-03-19 00:00:20</td>\n",
       "      <td>730.060336</td>\n",
       "      <td>47700.882325</td>\n",
       "    </tr>\n",
       "    <tr>\n",
       "      <th>3</th>\n",
       "      <td>3</td>\n",
       "      <td>2019-03-19 00:00:30</td>\n",
       "      <td>725.609742</td>\n",
       "      <td>47790.094648</td>\n",
       "    </tr>\n",
       "    <tr>\n",
       "      <th>4</th>\n",
       "      <td>4</td>\n",
       "      <td>2019-03-19 00:00:40</td>\n",
       "      <td>724.328480</td>\n",
       "      <td>47808.402381</td>\n",
       "    </tr>\n",
       "  </tbody>\n",
       "</table>\n",
       "</div>"
      ],
      "text/plain": [
       "   id                 time   feature_1     feature_2\n",
       "0   0  2019-03-19 00:00:00  735.740043  54479.540513\n",
       "1   1  2019-03-19 00:00:10  734.102947  47888.033714\n",
       "2   2  2019-03-19 00:00:20  730.060336  47700.882325\n",
       "3   3  2019-03-19 00:00:30  725.609742  47790.094648\n",
       "4   4  2019-03-19 00:00:40  724.328480  47808.402381"
      ]
     },
     "execution_count": 9,
     "metadata": {},
     "output_type": "execute_result"
    }
   ],
   "source": [
    "train.head()"
   ]
  },
  {
   "cell_type": "code",
   "execution_count": 5,
   "metadata": {},
   "outputs": [],
   "source": [
    "lin = train.copy()"
   ]
  },
  {
   "cell_type": "code",
   "execution_count": 15,
   "metadata": {},
   "outputs": [],
   "source": [
    "lin['time'] = pd.to_datetime(lin['time'], errors='coerce')\n",
    "\n",
    "lin[\"sec\"] = lin[\"time\"].dt.second\n",
    "lin[\"minute\"] = lin[\"time\"].dt.minute\n",
    "lin[\"hour\"]   = lin[\"time\"].dt.hour"
   ]
  },
  {
   "cell_type": "code",
   "execution_count": 17,
   "metadata": {},
   "outputs": [
    {
     "data": {
      "text/html": [
       "<div>\n",
       "<style scoped>\n",
       "    .dataframe tbody tr th:only-of-type {\n",
       "        vertical-align: middle;\n",
       "    }\n",
       "\n",
       "    .dataframe tbody tr th {\n",
       "        vertical-align: top;\n",
       "    }\n",
       "\n",
       "    .dataframe thead th {\n",
       "        text-align: right;\n",
       "    }\n",
       "</style>\n",
       "<table border=\"1\" class=\"dataframe\">\n",
       "  <thead>\n",
       "    <tr style=\"text-align: right;\">\n",
       "      <th></th>\n",
       "      <th>time</th>\n",
       "      <th>feature_1</th>\n",
       "      <th>feature_2</th>\n",
       "      <th>sec</th>\n",
       "      <th>minute</th>\n",
       "      <th>hour</th>\n",
       "    </tr>\n",
       "  </thead>\n",
       "  <tbody>\n",
       "    <tr>\n",
       "      <th>0</th>\n",
       "      <td>2019-03-19 00:00:00</td>\n",
       "      <td>735.740043</td>\n",
       "      <td>54479.540513</td>\n",
       "      <td>0</td>\n",
       "      <td>0</td>\n",
       "      <td>0</td>\n",
       "    </tr>\n",
       "    <tr>\n",
       "      <th>1</th>\n",
       "      <td>2019-03-19 00:00:10</td>\n",
       "      <td>734.102947</td>\n",
       "      <td>47888.033714</td>\n",
       "      <td>10</td>\n",
       "      <td>0</td>\n",
       "      <td>0</td>\n",
       "    </tr>\n",
       "    <tr>\n",
       "      <th>2</th>\n",
       "      <td>2019-03-19 00:00:20</td>\n",
       "      <td>730.060336</td>\n",
       "      <td>47700.882325</td>\n",
       "      <td>20</td>\n",
       "      <td>0</td>\n",
       "      <td>0</td>\n",
       "    </tr>\n",
       "    <tr>\n",
       "      <th>3</th>\n",
       "      <td>2019-03-19 00:00:30</td>\n",
       "      <td>725.609742</td>\n",
       "      <td>47790.094648</td>\n",
       "      <td>30</td>\n",
       "      <td>0</td>\n",
       "      <td>0</td>\n",
       "    </tr>\n",
       "    <tr>\n",
       "      <th>4</th>\n",
       "      <td>2019-03-19 00:00:40</td>\n",
       "      <td>724.328480</td>\n",
       "      <td>47808.402381</td>\n",
       "      <td>40</td>\n",
       "      <td>0</td>\n",
       "      <td>0</td>\n",
       "    </tr>\n",
       "  </tbody>\n",
       "</table>\n",
       "</div>"
      ],
      "text/plain": [
       "                 time   feature_1     feature_2  sec  minute  hour\n",
       "0 2019-03-19 00:00:00  735.740043  54479.540513    0       0     0\n",
       "1 2019-03-19 00:00:10  734.102947  47888.033714   10       0     0\n",
       "2 2019-03-19 00:00:20  730.060336  47700.882325   20       0     0\n",
       "3 2019-03-19 00:00:30  725.609742  47790.094648   30       0     0\n",
       "4 2019-03-19 00:00:40  724.328480  47808.402381   40       0     0"
      ]
     },
     "execution_count": 17,
     "metadata": {},
     "output_type": "execute_result"
    }
   ],
   "source": [
    "#lin = train.drop(\"id\", axis =1)\n",
    "lin_m = lin.drop(\"time\", axis =1)\n",
    "lin.head()"
   ]
  },
  {
   "cell_type": "code",
   "execution_count": 18,
   "metadata": {},
   "outputs": [
    {
     "data": {
      "text/html": [
       "<div>\n",
       "<style scoped>\n",
       "    .dataframe tbody tr th:only-of-type {\n",
       "        vertical-align: middle;\n",
       "    }\n",
       "\n",
       "    .dataframe tbody tr th {\n",
       "        vertical-align: top;\n",
       "    }\n",
       "\n",
       "    .dataframe thead th {\n",
       "        text-align: right;\n",
       "    }\n",
       "</style>\n",
       "<table border=\"1\" class=\"dataframe\">\n",
       "  <thead>\n",
       "    <tr style=\"text-align: right;\">\n",
       "      <th></th>\n",
       "      <th>feature_1</th>\n",
       "      <th>feature_2</th>\n",
       "      <th>sec</th>\n",
       "      <th>minute</th>\n",
       "      <th>hour</th>\n",
       "    </tr>\n",
       "  </thead>\n",
       "  <tbody>\n",
       "    <tr>\n",
       "      <th>0</th>\n",
       "      <td>735.740043</td>\n",
       "      <td>54479.540513</td>\n",
       "      <td>0</td>\n",
       "      <td>0</td>\n",
       "      <td>0</td>\n",
       "    </tr>\n",
       "    <tr>\n",
       "      <th>1</th>\n",
       "      <td>734.102947</td>\n",
       "      <td>47888.033714</td>\n",
       "      <td>10</td>\n",
       "      <td>0</td>\n",
       "      <td>0</td>\n",
       "    </tr>\n",
       "    <tr>\n",
       "      <th>2</th>\n",
       "      <td>730.060336</td>\n",
       "      <td>47700.882325</td>\n",
       "      <td>20</td>\n",
       "      <td>0</td>\n",
       "      <td>0</td>\n",
       "    </tr>\n",
       "    <tr>\n",
       "      <th>3</th>\n",
       "      <td>725.609742</td>\n",
       "      <td>47790.094648</td>\n",
       "      <td>30</td>\n",
       "      <td>0</td>\n",
       "      <td>0</td>\n",
       "    </tr>\n",
       "    <tr>\n",
       "      <th>4</th>\n",
       "      <td>724.328480</td>\n",
       "      <td>47808.402381</td>\n",
       "      <td>40</td>\n",
       "      <td>0</td>\n",
       "      <td>0</td>\n",
       "    </tr>\n",
       "    <tr>\n",
       "      <th>5</th>\n",
       "      <td>723.715893</td>\n",
       "      <td>47810.517411</td>\n",
       "      <td>50</td>\n",
       "      <td>0</td>\n",
       "      <td>0</td>\n",
       "    </tr>\n",
       "    <tr>\n",
       "      <th>6</th>\n",
       "      <td>720.406875</td>\n",
       "      <td>47835.758121</td>\n",
       "      <td>0</td>\n",
       "      <td>1</td>\n",
       "      <td>0</td>\n",
       "    </tr>\n",
       "    <tr>\n",
       "      <th>7</th>\n",
       "      <td>712.682269</td>\n",
       "      <td>47806.938481</td>\n",
       "      <td>10</td>\n",
       "      <td>1</td>\n",
       "      <td>0</td>\n",
       "    </tr>\n",
       "    <tr>\n",
       "      <th>8</th>\n",
       "      <td>711.509741</td>\n",
       "      <td>47812.099044</td>\n",
       "      <td>20</td>\n",
       "      <td>1</td>\n",
       "      <td>0</td>\n",
       "    </tr>\n",
       "    <tr>\n",
       "      <th>9</th>\n",
       "      <td>707.025594</td>\n",
       "      <td>47821.540514</td>\n",
       "      <td>30</td>\n",
       "      <td>1</td>\n",
       "      <td>0</td>\n",
       "    </tr>\n",
       "  </tbody>\n",
       "</table>\n",
       "</div>"
      ],
      "text/plain": [
       "    feature_1     feature_2  sec  minute  hour\n",
       "0  735.740043  54479.540513    0       0     0\n",
       "1  734.102947  47888.033714   10       0     0\n",
       "2  730.060336  47700.882325   20       0     0\n",
       "3  725.609742  47790.094648   30       0     0\n",
       "4  724.328480  47808.402381   40       0     0\n",
       "5  723.715893  47810.517411   50       0     0\n",
       "6  720.406875  47835.758121    0       1     0\n",
       "7  712.682269  47806.938481   10       1     0\n",
       "8  711.509741  47812.099044   20       1     0\n",
       "9  707.025594  47821.540514   30       1     0"
      ]
     },
     "execution_count": 18,
     "metadata": {},
     "output_type": "execute_result"
    }
   ],
   "source": [
    "lin_m.head(10)"
   ]
  },
  {
   "cell_type": "code",
   "execution_count": null,
   "metadata": {},
   "outputs": [],
   "source": []
  },
  {
   "cell_type": "code",
   "execution_count": 19,
   "metadata": {},
   "outputs": [],
   "source": [
    "# SPliting into inependent and dependent variable\n",
    "\n",
    "ind = lin_m[[\"feature_1\",\"sec\",\"minute\",\"hour\"]]\n",
    "dep = lin_m[\"feature_2\"]"
   ]
  },
  {
   "cell_type": "code",
   "execution_count": 20,
   "metadata": {},
   "outputs": [
    {
     "name": "stdout",
     "output_type": "stream",
     "text": [
      "shape of independent variable (564, 4)\n",
      "shape of dependent variable  (564,)\n"
     ]
    }
   ],
   "source": [
    "print(\"shape of independent variable\", ind.shape)\n",
    "print(\"shape of dependent variable \",dep.shape)"
   ]
  },
  {
   "cell_type": "code",
   "execution_count": 21,
   "metadata": {},
   "outputs": [],
   "source": [
    "# Scaling Values\n",
    "\n",
    "from sklearn.preprocessing import StandardScaler \n",
    "scaler = StandardScaler().fit(ind)\n",
    "data1 = scaler.transform(ind) "
   ]
  },
  {
   "cell_type": "code",
   "execution_count": 22,
   "metadata": {},
   "outputs": [],
   "source": [
    "data = pd.DataFrame(data1, columns =[\"feature_1\",\"seconds\",\"minutes\",\"hours\"])"
   ]
  },
  {
   "cell_type": "code",
   "execution_count": 23,
   "metadata": {},
   "outputs": [
    {
     "data": {
      "text/html": [
       "<div>\n",
       "<style scoped>\n",
       "    .dataframe tbody tr th:only-of-type {\n",
       "        vertical-align: middle;\n",
       "    }\n",
       "\n",
       "    .dataframe tbody tr th {\n",
       "        vertical-align: top;\n",
       "    }\n",
       "\n",
       "    .dataframe thead th {\n",
       "        text-align: right;\n",
       "    }\n",
       "</style>\n",
       "<table border=\"1\" class=\"dataframe\">\n",
       "  <thead>\n",
       "    <tr style=\"text-align: right;\">\n",
       "      <th></th>\n",
       "      <th>feature_1</th>\n",
       "      <th>seconds</th>\n",
       "      <th>minutes</th>\n",
       "      <th>hours</th>\n",
       "    </tr>\n",
       "  </thead>\n",
       "  <tbody>\n",
       "    <tr>\n",
       "      <th>0</th>\n",
       "      <td>3.009236</td>\n",
       "      <td>-1.46385</td>\n",
       "      <td>-1.522552</td>\n",
       "      <td>-0.752773</td>\n",
       "    </tr>\n",
       "    <tr>\n",
       "      <th>1</th>\n",
       "      <td>2.985997</td>\n",
       "      <td>-0.87831</td>\n",
       "      <td>-1.522552</td>\n",
       "      <td>-0.752773</td>\n",
       "    </tr>\n",
       "    <tr>\n",
       "      <th>2</th>\n",
       "      <td>2.928610</td>\n",
       "      <td>-0.29277</td>\n",
       "      <td>-1.522552</td>\n",
       "      <td>-0.752773</td>\n",
       "    </tr>\n",
       "    <tr>\n",
       "      <th>3</th>\n",
       "      <td>2.865431</td>\n",
       "      <td>0.29277</td>\n",
       "      <td>-1.522552</td>\n",
       "      <td>-0.752773</td>\n",
       "    </tr>\n",
       "    <tr>\n",
       "      <th>4</th>\n",
       "      <td>2.847243</td>\n",
       "      <td>0.87831</td>\n",
       "      <td>-1.522552</td>\n",
       "      <td>-0.752773</td>\n",
       "    </tr>\n",
       "  </tbody>\n",
       "</table>\n",
       "</div>"
      ],
      "text/plain": [
       "   feature_1  seconds   minutes     hours\n",
       "0   3.009236 -1.46385 -1.522552 -0.752773\n",
       "1   2.985997 -0.87831 -1.522552 -0.752773\n",
       "2   2.928610 -0.29277 -1.522552 -0.752773\n",
       "3   2.865431  0.29277 -1.522552 -0.752773\n",
       "4   2.847243  0.87831 -1.522552 -0.752773"
      ]
     },
     "execution_count": 23,
     "metadata": {},
     "output_type": "execute_result"
    }
   ],
   "source": [
    "data.head()"
   ]
  },
  {
   "cell_type": "code",
   "execution_count": 24,
   "metadata": {},
   "outputs": [
    {
     "data": {
      "text/plain": [
       "(564, 4)"
      ]
     },
     "execution_count": 24,
     "metadata": {},
     "output_type": "execute_result"
    }
   ],
   "source": [
    "data.shape"
   ]
  },
  {
   "cell_type": "code",
   "execution_count": 25,
   "metadata": {},
   "outputs": [],
   "source": [
    "x = data\n",
    "y = lin_m[\"feature_2\"]"
   ]
  },
  {
   "cell_type": "code",
   "execution_count": 26,
   "metadata": {},
   "outputs": [],
   "source": [
    "# Spliting into train and test data\n",
    "\n",
    "x_train = x.iloc[:500,:]\n",
    "x_test  = x.iloc[500:564,:]\n",
    "y_train = y.iloc[:500]\n",
    "y_test  = y.iloc[500:]"
   ]
  },
  {
   "cell_type": "code",
   "execution_count": 27,
   "metadata": {},
   "outputs": [
    {
     "data": {
      "text/plain": [
       "(500,)"
      ]
     },
     "execution_count": 27,
     "metadata": {},
     "output_type": "execute_result"
    }
   ],
   "source": [
    "y_train.shape"
   ]
  },
  {
   "cell_type": "code",
   "execution_count": 28,
   "metadata": {},
   "outputs": [
    {
     "data": {
      "text/plain": [
       "(64, 4)"
      ]
     },
     "execution_count": 28,
     "metadata": {},
     "output_type": "execute_result"
    }
   ],
   "source": [
    "x_test.shape"
   ]
  },
  {
   "cell_type": "code",
   "execution_count": 29,
   "metadata": {},
   "outputs": [
    {
     "data": {
      "text/plain": [
       "(64,)"
      ]
     },
     "execution_count": 29,
     "metadata": {},
     "output_type": "execute_result"
    }
   ],
   "source": [
    "y_test.shape"
   ]
  },
  {
   "cell_type": "code",
   "execution_count": 30,
   "metadata": {},
   "outputs": [],
   "source": [
    "from sklearn.linear_model import LinearRegression"
   ]
  },
  {
   "cell_type": "code",
   "execution_count": 32,
   "metadata": {},
   "outputs": [
    {
     "data": {
      "text/plain": [
       "430.489591594876"
      ]
     },
     "execution_count": 32,
     "metadata": {},
     "output_type": "execute_result"
    }
   ],
   "source": [
    "linreg1 = LinearRegression()          # creating Object\n",
    "linreg1.fit(x_train, y_train)         #  FIt the data\n",
    "y_pred1 = linreg1.predict(x_test)     # predicting\n",
    "\n",
    "# error calculation\n",
    "from sklearn.metrics import mean_squared_error\n",
    "rmse = np.sqrt(mean_squared_error(y_pred1,y_test))\n",
    "rmse"
   ]
  },
  {
   "cell_type": "code",
   "execution_count": null,
   "metadata": {},
   "outputs": [],
   "source": []
  },
  {
   "cell_type": "markdown",
   "metadata": {},
   "source": [
    "### 5. RIdge and Lasso Regression"
   ]
  },
  {
   "cell_type": "markdown",
   "metadata": {},
   "source": [
    "#### 5.1  Ridge Regression"
   ]
  },
  {
   "cell_type": "markdown",
   "metadata": {},
   "source": [
    "-   It adds penalty (lambda) to all variables excluding intercept.\n",
    "-   It penalise all the variable and higher penalty add to important terms so that model can bring to less important terms.\n",
    "-   In L2(**Ridge**) regression it adds squared magnitude of coefficient."
   ]
  },
  {
   "cell_type": "code",
   "execution_count": 33,
   "metadata": {},
   "outputs": [],
   "source": [
    "from sklearn.linear_model import Ridge\n",
    "ridgereg = Ridge(alpha = 0.7, normalize = True)\n",
    "ridgereg.fit(x_train,y_train)\n",
    "y_pred2 = ridgereg.predict(x_test)"
   ]
  },
  {
   "cell_type": "code",
   "execution_count": 34,
   "metadata": {},
   "outputs": [
    {
     "data": {
      "text/plain": [
       "196.19568059488347"
      ]
     },
     "execution_count": 34,
     "metadata": {},
     "output_type": "execute_result"
    }
   ],
   "source": [
    "rmse2 = np.sqrt(mean_squared_error(y_pred2, y_test))\n",
    "rmse2"
   ]
  },
  {
   "cell_type": "code",
   "execution_count": 43,
   "metadata": {},
   "outputs": [
    {
     "data": {
      "text/html": [
       "<div>\n",
       "<style scoped>\n",
       "    .dataframe tbody tr th:only-of-type {\n",
       "        vertical-align: middle;\n",
       "    }\n",
       "\n",
       "    .dataframe tbody tr th {\n",
       "        vertical-align: top;\n",
       "    }\n",
       "\n",
       "    .dataframe thead th {\n",
       "        text-align: right;\n",
       "    }\n",
       "</style>\n",
       "<table border=\"1\" class=\"dataframe\">\n",
       "  <thead>\n",
       "    <tr style=\"text-align: right;\">\n",
       "      <th></th>\n",
       "      <th>feature_2</th>\n",
       "      <th>pred_f2</th>\n",
       "    </tr>\n",
       "  </thead>\n",
       "  <tbody>\n",
       "    <tr>\n",
       "      <th>500</th>\n",
       "      <td>54011.760484</td>\n",
       "      <td>53699.732524</td>\n",
       "    </tr>\n",
       "    <tr>\n",
       "      <th>501</th>\n",
       "      <td>53973.039326</td>\n",
       "      <td>53626.456108</td>\n",
       "    </tr>\n",
       "    <tr>\n",
       "      <th>502</th>\n",
       "      <td>53980.802179</td>\n",
       "      <td>53629.144396</td>\n",
       "    </tr>\n",
       "    <tr>\n",
       "      <th>503</th>\n",
       "      <td>53994.857272</td>\n",
       "      <td>53625.306399</td>\n",
       "    </tr>\n",
       "    <tr>\n",
       "      <th>504</th>\n",
       "      <td>54045.146298</td>\n",
       "      <td>53671.639326</td>\n",
       "    </tr>\n",
       "  </tbody>\n",
       "</table>\n",
       "</div>"
      ],
      "text/plain": [
       "        feature_2       pred_f2\n",
       "500  54011.760484  53699.732524\n",
       "501  53973.039326  53626.456108\n",
       "502  53980.802179  53629.144396\n",
       "503  53994.857272  53625.306399\n",
       "504  54045.146298  53671.639326"
      ]
     },
     "execution_count": 43,
     "metadata": {},
     "output_type": "execute_result"
    }
   ],
   "source": [
    "test_df  = pd.DataFrame(y_test)\n",
    "test_df[\"pred_f2\"] = y_pred2\n",
    "test_df.head()"
   ]
  },
  {
   "cell_type": "code",
   "execution_count": 48,
   "metadata": {},
   "outputs": [
    {
     "data": {
      "text/plain": [
       "<matplotlib.legend.Legend at 0x1fb6a1af1c8>"
      ]
     },
     "execution_count": 48,
     "metadata": {},
     "output_type": "execute_result"
    },
    {
     "data": {
      "image/png": "[encoded data removed]",
      "text/plain": [
       "<Figure size 432x288 with 1 Axes>"
      ]
     },
     "metadata": {
      "needs_background": "light"
     },
     "output_type": "display_data"
    }
   ],
   "source": [
    "from matplotlib import pyplot\n",
    "pyplot.plot(test_df[\"feature_2\"], Label = \"original\")\n",
    "pyplot.plot(test_df[\"pred_f2\"], Label = \"predicted\")\n",
    "\n",
    "\n",
    "pyplot.legend()"
   ]
  },
  {
   "cell_type": "markdown",
   "metadata": {},
   "source": [
    "#### 5.2 Lasso Regression"
   ]
  },
  {
   "cell_type": "markdown",
   "metadata": {},
   "source": [
    "- **Lasso** Stands for  **Least absolute shrinkage and selection operator.**\n",
    "- It shrinks the less imp features. So it is important for feature selection\n",
    "- L1(**Lasso**) adds absolute value of magnitude of coef. "
   ]
  },
  {
   "cell_type": "code",
   "execution_count": 49,
   "metadata": {},
   "outputs": [
    {
     "data": {
      "text/plain": [
       "430.85410357366123"
      ]
     },
     "execution_count": 49,
     "metadata": {},
     "output_type": "execute_result"
    }
   ],
   "source": [
    "from sklearn.linear_model import Lasso\n",
    "lassoreg = Lasso(alpha = 0.001, normalize = True)\n",
    "lassoreg.fit(x_train,y_train)\n",
    "y_pred3 = lassoreg.predict(x_test)\n",
    "rmse3 = np.sqrt(mean_squared_error(y_pred3, y_test))\n",
    "rmse3"
   ]
  },
  {
   "cell_type": "code",
   "execution_count": 50,
   "metadata": {},
   "outputs": [
    {
     "data": {
      "text/html": [
       "<div>\n",
       "<style scoped>\n",
       "    .dataframe tbody tr th:only-of-type {\n",
       "        vertical-align: middle;\n",
       "    }\n",
       "\n",
       "    .dataframe tbody tr th {\n",
       "        vertical-align: top;\n",
       "    }\n",
       "\n",
       "    .dataframe thead th {\n",
       "        text-align: right;\n",
       "    }\n",
       "</style>\n",
       "<table border=\"1\" class=\"dataframe\">\n",
       "  <thead>\n",
       "    <tr style=\"text-align: right;\">\n",
       "      <th></th>\n",
       "      <th>feature_2</th>\n",
       "      <th>pred_f2</th>\n",
       "    </tr>\n",
       "  </thead>\n",
       "  <tbody>\n",
       "    <tr>\n",
       "      <th>500</th>\n",
       "      <td>54011.760484</td>\n",
       "      <td>54175.516470</td>\n",
       "    </tr>\n",
       "    <tr>\n",
       "      <th>501</th>\n",
       "      <td>53973.039326</td>\n",
       "      <td>53973.641284</td>\n",
       "    </tr>\n",
       "    <tr>\n",
       "      <th>502</th>\n",
       "      <td>53980.802179</td>\n",
       "      <td>53974.741758</td>\n",
       "    </tr>\n",
       "    <tr>\n",
       "      <th>503</th>\n",
       "      <td>53994.857272</td>\n",
       "      <td>53958.404172</td>\n",
       "    </tr>\n",
       "    <tr>\n",
       "      <th>504</th>\n",
       "      <td>54045.146298</td>\n",
       "      <td>54043.368447</td>\n",
       "    </tr>\n",
       "  </tbody>\n",
       "</table>\n",
       "</div>"
      ],
      "text/plain": [
       "        feature_2       pred_f2\n",
       "500  54011.760484  54175.516470\n",
       "501  53973.039326  53973.641284\n",
       "502  53980.802179  53974.741758\n",
       "503  53994.857272  53958.404172\n",
       "504  54045.146298  54043.368447"
      ]
     },
     "execution_count": 50,
     "metadata": {},
     "output_type": "execute_result"
    }
   ],
   "source": [
    "test_dfl  = pd.DataFrame(y_test)\n",
    "test_dfl[\"pred_f2\"] = y_pred3\n",
    "test_dfl.head()"
   ]
  },
  {
   "cell_type": "code",
   "execution_count": 51,
   "metadata": {},
   "outputs": [
    {
     "data": {
      "text/plain": [
       "<matplotlib.legend.Legend at 0x1fb6a14f408>"
      ]
     },
     "execution_count": 51,
     "metadata": {},
     "output_type": "execute_result"
    },
    {
     "data": {
      "image/png": "[encoded data removed]",
      "text/plain": [
       "<Figure size 432x288 with 1 Axes>"
      ]
     },
     "metadata": {
      "needs_background": "light"
     },
     "output_type": "display_data"
    }
   ],
   "source": [
    "#from matplotlib import pyplot\n",
    "pyplot.plot(test_dfl[\"feature_2\"], Label = \"original\")\n",
    "pyplot.plot(test_dfl[\"pred_f2\"], Label = \"predicted\")\n",
    "\n",
    "\n",
    "pyplot.legend()"
   ]
  },
  {
   "cell_type": "code",
   "execution_count": null,
   "metadata": {},
   "outputs": [],
   "source": []
  }
 ],
 "metadata": {
  "kernelspec": {
   "display_name": "Python 3",
   "language": "python",
   "name": "python3"
  },
  "language_info": {
   "codemirror_mode": {
    "name": "ipython",
    "version": 3
   },
   "file_extension": ".py",
   "mimetype": "text/x-python",
   "name": "python",
   "nbconvert_exporter": "python",
   "pygments_lexer": "ipython3",
   "version": "3.7.6"
  }
 },
 "nbformat": 4,
 "nbformat_minor": 4
}
